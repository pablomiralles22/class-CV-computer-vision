{
  "nbformat": 4,
  "nbformat_minor": 0,
  "metadata": {
    "colab": {
      "provenance": [],
      "gpuType": "T4",
      "authorship_tag": "ABX9TyNK6SYNbfFcvGCaFPSREp4Q",
      "include_colab_link": true
    },
    "kernelspec": {
      "name": "python3",
      "display_name": "Python 3"
    },
    "language_info": {
      "name": "python"
    },
    "accelerator": "GPU"
  },
  "cells": [
    {
      "cell_type": "markdown",
      "metadata": {
        "id": "view-in-github",
        "colab_type": "text"
      },
      "source": [
        "<a href=\"https://colab.research.google.com/github/pablomiralles22/class-CV-computer-vision/blob/main/Convolution_MNIST.ipynb\" target=\"_parent\"><img src=\"https://colab.research.google.com/assets/colab-badge.svg\" alt=\"Open In Colab\"/></a>"
      ]
    },
    {
      "cell_type": "code",
      "source": [
        "import torch\n",
        "import torch.nn as nn\n",
        "import torch.optim as optim\n",
        "from torchvision import datasets, transforms"
      ],
      "metadata": {
        "id": "T1MjdEpF3J3_"
      },
      "execution_count": null,
      "outputs": []
    },
    {
      "cell_type": "markdown",
      "source": [
        "## 📦 Data Loading\n",
        "In this section, we load the MNIST dataset. MNIST is a classic dataset of handwritten digits (0–9). Each image is 28x28 pixels in grayscale. We'll use this data to train a simple image classification model."
      ],
      "metadata": {
        "id": "2gBgt_5WU8xS"
      }
    },
    {
      "cell_type": "code",
      "execution_count": null,
      "metadata": {
        "id": "EtcLezJT3E5E"
      },
      "outputs": [],
      "source": [
        "# --- Data ---\n",
        "transform = transforms.ToTensor()\n",
        "\n",
        "train_dataset = datasets.MNIST('.', train=True, download=True, transform=transform)\n",
        "train_loader = torch.utils.data.DataLoader(train_dataset, batch_size=64, shuffle=True)\n",
        "\n",
        "val_dataset = datasets.MNIST('.', train=False, transform=transform)\n",
        "val_loader = torch.utils.data.DataLoader(val_dataset, batch_size=64, shuffle=False)"
      ]
    },
    {
      "cell_type": "markdown",
      "source": [
        "Let's explain the code step by step:\n",
        "\n",
        "```python\n",
        "transform = transforms.ToTensor()\n",
        "```\n",
        "\n",
        "* Converts PIL images or NumPy arrays to PyTorch tensors.\n",
        "* Scales pixel values from `[0, 255]` to `[0.0, 1.0]`.\n",
        "\n",
        "```python\n",
        "train_dataset = datasets.MNIST('.', train=True, download=True, transform=transform)\n",
        "```\n",
        "\n",
        "* Loads the **training set** of the MNIST dataset.\n",
        "* Stores data in the current directory (`'.'`).\n",
        "* Downloads the dataset if not already present.\n",
        "* Applies `ToTensor()` transformation.\n",
        "\n",
        "```python\n",
        "train_loader = torch.utils.data.DataLoader(train_dataset, batch_size=64, shuffle=True)\n",
        "```\n",
        "\n",
        "* Wraps the training dataset in a data loader.\n",
        "* Loads data in **mini-batches of 64**.\n",
        "* Shuffles data every epoch for better training.\n",
        "\n",
        "```python\n",
        "val_dataset = datasets.MNIST('.', train=False, transform=transform)\n",
        "```\n",
        "\n",
        "* Loads the **validation (test) set** of MNIST.\n",
        "* No shuffling or downloading since it uses the test split.\n",
        "\n",
        "```python\n",
        "val_loader = torch.utils.data.DataLoader(val_dataset, batch_size=64, shuffle=False)\n",
        "```\n",
        "\n",
        "* Loads the validation data in batches of 64.\n",
        "* **No shuffling**, preserving original order (typical for evaluation).\n"
      ],
      "metadata": {
        "id": "LoPGSby4W5xQ"
      }
    },
    {
      "cell_type": "markdown",
      "source": [
        "## 🧠 Define the Neural Network\n",
        "Here, we define our neural network using PyTorch's nn.Module. It's a simple Convolutional Neural Network (CNN) with three convolutional layers followed by a final classification layer. CNNs are especially good for image recognition tasks."
      ],
      "metadata": {
        "id": "Vo-KCEVhVKBX"
      }
    },
    {
      "cell_type": "code",
      "source": [
        "# --- Model ---\n",
        "class SimpleCNN(nn.Module):\n",
        "    def __init__(self):\n",
        "        super().__init__()\n",
        "        self.net = nn.Sequential(\n",
        "            nn.Conv2d(1, 16, kernel_size=3, stride=2),   # [B, 1, 28, 28] -> [B, 16, 13, 13]\n",
        "            nn.ReLU(),\n",
        "            nn.Conv2d(16, 32, kernel_size=3, stride=2),  # [B, 16, 13, 13] -> [B, 32, 6, 6]\n",
        "            nn.ReLU(),\n",
        "            nn.Conv2d(32, 64, kernel_size=3, stride=2),  # [B, 32, 6, 6] -> [B, 64, 2, 2]\n",
        "            nn.ReLU(),\n",
        "        )\n",
        "        self.classifier = nn.Linear(64 * 2 * 2, 10)  # Flatten: [B, 256] -> [B, 10]\n",
        "\n",
        "    def forward(self, x):\n",
        "        x = self.net(x)\n",
        "        x = x.flatten(start_dim=1)\n",
        "        return self.classifier(x)"
      ],
      "metadata": {
        "id": "UET2ZSLe46Wq"
      },
      "execution_count": null,
      "outputs": []
    },
    {
      "cell_type": "markdown",
      "source": [
        "```python\n",
        "class SimpleCNN(nn.Module):\n",
        "    def __init__(self):\n",
        "        super().__init__()\n",
        "```\n",
        "\n",
        "* Defines a custom neural network class inheriting from `nn.Module`.\n",
        "\n",
        "```python\n",
        "        self.net = nn.Sequential(\n",
        "            nn.Conv2d(1, 16, kernel_size=3, stride=2),   # [B, 1, 28, 28] -> [B, 16, 13, 13]\n",
        "            nn.ReLU(),\n",
        "            nn.Conv2d(16, 32, kernel_size=3, stride=2),  # [B, 16, 13, 13] -> [B, 32, 6, 6]\n",
        "            nn.ReLU(),\n",
        "            nn.Conv2d(32, 64, kernel_size=3, stride=2),  # [B, 32, 6, 6] -> [B, 64, 2, 2]\n",
        "            nn.ReLU(),\n",
        "        )\n",
        "```\n",
        "\n",
        "* A **convolutional feature extractor** with 3 layers:\n",
        "\n",
        "  * Each `Conv2d` halves the spatial dimensions due to `stride=2`.\n",
        "  * `ReLU` adds non-linearity after each conv layer.\n",
        "  * Final output shape after convs: `[B, 64, 2, 2]`.\n",
        "\n",
        "```python\n",
        "        self.classifier = nn.Linear(64 * 2 * 2, 10)\n",
        "```\n",
        "\n",
        "* A **fully connected layer** that maps flattened conv output (size 256) to 10 output classes (digits 0–9).\n",
        "\n",
        "```python\n",
        "    def forward(self, x):\n",
        "        x = self.net(x)                     # Pass through conv layers\n",
        "        x = x.flatten(start_dim=1)          # Flatten to shape [B, 256]\n",
        "        return self.classifier(x)           # Class scores (logits)\n",
        "```\n",
        "\n",
        "* **Forward pass logic**:\n",
        "\n",
        "  1. Extract features.\n",
        "  2. Flatten features.\n",
        "  3. Classify with linear layer.\n"
      ],
      "metadata": {
        "id": "7eELcxCuXQ6X"
      }
    },
    {
      "cell_type": "markdown",
      "source": [
        "## 🏋️‍♀️ Training the model"
      ],
      "metadata": {
        "id": "KMqHDfdBXZK5"
      }
    },
    {
      "cell_type": "code",
      "source": [
        "# --- Training ---\n",
        "device = torch.device(\"cuda\" if torch.cuda.is_available() else \"cpu\")\n",
        "model = SimpleCNN().to(device)\n",
        "optimizer = optim.Adam(model.parameters(), lr=1e-3)\n",
        "criterion = nn.CrossEntropyLoss()\n",
        "\n",
        "\n",
        "for epoch in range(5):  # Single epoch for minimal example\n",
        "    print(f\"Epoch {epoch}\")\n",
        "\n",
        "    # Train\n",
        "    model.train()\n",
        "    train_losses = []\n",
        "    for x, y in train_loader:\n",
        "        x, y = x.to(device), y.to(device)\n",
        "        optimizer.zero_grad()\n",
        "        out = model(x)\n",
        "        loss = criterion(out, y)\n",
        "        loss.backward()\n",
        "        optimizer.step()\n",
        "        train_losses.append(loss.item())\n",
        "    print(f\"Train loss: {sum(train_losses) / len(train_losses)}\")\n",
        "\n",
        "    # Validation\n",
        "    val_losses = []\n",
        "    with torch.no_grad():\n",
        "        for x, y in val_loader:\n",
        "            x, y = x.to(device), y.to(device)\n",
        "            out = model(x)\n",
        "            loss = criterion(out, y)\n",
        "            val_losses.append(loss.item())\n",
        "    print(f\"Val loss: {sum(val_losses) / len(val_losses)}\")\n"
      ],
      "metadata": {
        "colab": {
          "base_uri": "https://localhost:8080/"
        },
        "id": "ljB7DSaM3L0D",
        "outputId": "607a5448-162b-4299-abef-ba7db06bcb19"
      },
      "execution_count": null,
      "outputs": [
        {
          "output_type": "stream",
          "name": "stdout",
          "text": [
            "Epoch 0\n",
            "Train loss: 0.36047024827108964\n",
            "Val loss: 0.14033805436801736\n",
            "Epoch 1\n",
            "Train loss: 0.11889521469538814\n",
            "Val loss: 0.08872888061984674\n",
            "Epoch 2\n",
            "Train loss: 0.08452595395273341\n",
            "Val loss: 0.06738804081850834\n",
            "Epoch 3\n",
            "Train loss: 0.06646266297550439\n",
            "Val loss: 0.06254863348225233\n",
            "Epoch 4\n",
            "Train loss: 0.05486489250709408\n",
            "Val loss: 0.05864701733620805\n"
          ]
        }
      ]
    },
    {
      "cell_type": "markdown",
      "source": [
        "```python\n",
        "device = torch.device(\"cuda\" if torch.cuda.is_available() else \"cpu\")\n",
        "```\n",
        "\n",
        "* Selects **GPU** if available, else falls back to **CPU**.\n",
        "\n",
        "```python\n",
        "model = SimpleCNN().to(device)\n",
        "optimizer = optim.Adam(model.parameters(), lr=1e-3)\n",
        "criterion = nn.CrossEntropyLoss()\n",
        "```\n",
        "\n",
        "* Instantiates the model and moves it to the chosen device.\n",
        "* Uses **Adam** optimizer with a learning rate of `1e-3`.\n",
        "* Loss function: **Cross-Entropy**, standard for classification.\n",
        "\n",
        "\n",
        "🔄 **Epoch Loop**\n",
        "\n",
        "```python\n",
        "for epoch in range(5):\n",
        "    print(f\"Epoch {epoch}\")\n",
        "```\n",
        "\n",
        "* Trains for 5 epochs.\n",
        "\n",
        "\n",
        "🏋️ **Training Phase**\n",
        "\n",
        "```python\n",
        "model.train()\n",
        "train_losses = []\n",
        "for x, y in train_loader:\n",
        "    x, y = x.to(device), y.to(device)\n",
        "    optimizer.zero_grad()\n",
        "    out = model(x)\n",
        "    loss = criterion(out, y)\n",
        "    loss.backward()\n",
        "    optimizer.step()\n",
        "    train_losses.append(loss.item())\n",
        "print(f\"Train loss: {sum(train_losses) / len(train_losses)}\")\n",
        "```\n",
        "\n",
        "* Sets model to **training mode** (`model.train()`).\n",
        "* Loads batches of training data, moves to device.\n",
        "* Clears gradients → forward pass → computes loss → backprop → optimizer step.\n",
        "* Collects and averages training loss.\n",
        "\n",
        "\n",
        "🧪 **Validation Phase**\n",
        "\n",
        "```python\n",
        "val_losses = []\n",
        "with torch.no_grad():\n",
        "    for x, y in val_loader:\n",
        "        x, y = x.to(device), y.to(device)\n",
        "        out = model(x)\n",
        "        loss = criterion(out, y)\n",
        "        val_losses.append(loss.item())\n",
        "print(f\"Val loss: {sum(val_losses) / len(val_losses)}\")\n",
        "```\n",
        "\n",
        "* Disables gradient tracking with `torch.no_grad()` for efficiency. This disables the tracking of gradients necessary to apply the optimization step, but this is not necessary during validation, as we do not train the model.\n",
        "* Evaluates model on validation data.\n",
        "* Computes and reports average validation loss. This loss reflects how well the model does on unseen data, giving a more realistic picture of generalization. If the training loss goes down but the validation loss does not, we are overfitting to the training data.\n"
      ],
      "metadata": {
        "id": "R1gpfBXPXm3o"
      }
    }
  ]
}