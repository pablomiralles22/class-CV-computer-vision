{
  "nbformat": 4,
  "nbformat_minor": 0,
  "metadata": {
    "colab": {
      "provenance": [],
      "gpuType": "T4",
      "authorship_tag": "ABX9TyM7qmjMa0G6R8Xw3uVbk3fn",
      "include_colab_link": true
    },
    "kernelspec": {
      "name": "python3",
      "display_name": "Python 3"
    },
    "language_info": {
      "name": "python"
    },
    "accelerator": "GPU"
  },
  "cells": [
    {
      "cell_type": "markdown",
      "metadata": {
        "id": "view-in-github",
        "colab_type": "text"
      },
      "source": [
        "<a href=\"https://colab.research.google.com/github/pablomiralles22/class-CV-computer-vision/blob/main/Convolution_MNIST.ipynb\" target=\"_parent\"><img src=\"https://colab.research.google.com/assets/colab-badge.svg\" alt=\"Open In Colab\"/></a>"
      ]
    },
    {
      "cell_type": "code",
      "source": [
        "import torch\n",
        "import torch.nn as nn\n",
        "import torch.optim as optim\n",
        "from torchvision import datasets, transforms"
      ],
      "metadata": {
        "id": "T1MjdEpF3J3_"
      },
      "execution_count": null,
      "outputs": []
    },
    {
      "cell_type": "code",
      "execution_count": null,
      "metadata": {
        "id": "EtcLezJT3E5E"
      },
      "outputs": [],
      "source": [
        "# --- Data ---\n",
        "transform = transforms.ToTensor()\n",
        "train_loader = torch.utils.data.DataLoader(\n",
        "    datasets.MNIST('.', train=True, download=True, transform=transform),\n",
        "    batch_size=64, shuffle=True\n",
        ")\n",
        "val_loader = torch.utils.data.DataLoader(\n",
        "    datasets.MNIST('.', train=False, transform=transform),\n",
        "    batch_size=64, shuffle=False\n",
        ")"
      ]
    },
    {
      "cell_type": "code",
      "source": [
        "# --- Model ---\n",
        "class SimpleCNN(nn.Module):\n",
        "    def __init__(self):\n",
        "        super().__init__()\n",
        "        self.net = nn.Sequential(\n",
        "            nn.Conv2d(1, 16, kernel_size=3, stride=2),   # [B, 1, 28, 28] -> [B, 16, 13, 13]\n",
        "            nn.ReLU(),\n",
        "            nn.Conv2d(16, 32, kernel_size=3, stride=2),  # [B, 16, 13, 13] -> [B, 32, 6, 6]\n",
        "            nn.ReLU(),\n",
        "            nn.Conv2d(32, 64, kernel_size=3, stride=2),  # [B, 32, 6, 6] -> [B, 64, 2, 2]\n",
        "            nn.ReLU(),\n",
        "        )\n",
        "        self.classifier = nn.Linear(64 * 2 * 2, 10)  # Flatten: [B, 256] -> [B, 10]\n",
        "\n",
        "    def forward(self, x):\n",
        "        x = self.net(x)\n",
        "        x = x.flatten(start_dim=1)\n",
        "        return self.classifier(x)"
      ],
      "metadata": {
        "id": "UET2ZSLe46Wq"
      },
      "execution_count": null,
      "outputs": []
    },
    {
      "cell_type": "code",
      "source": [
        "# --- Training ---\n",
        "device = torch.device(\"cuda\" if torch.cuda.is_available() else \"cpu\")\n",
        "model = SimpleCNN().to(device)\n",
        "optimizer = optim.Adam(model.parameters(), lr=1e-3)\n",
        "criterion = nn.CrossEntropyLoss()\n",
        "\n",
        "\n",
        "for epoch in range(5):  # Single epoch for minimal example\n",
        "    print(f\"Epoch {epoch}\")\n",
        "\n",
        "    # Train\n",
        "    model.train()\n",
        "    train_losses = []\n",
        "    for x, y in train_loader:\n",
        "        x, y = x.to(device), y.to(device)\n",
        "        optimizer.zero_grad()\n",
        "        out = model(x)\n",
        "        loss = criterion(out, y)\n",
        "        loss.backward()\n",
        "        optimizer.step()\n",
        "        train_losses.append(loss.item())\n",
        "    print(f\"Train loss: {sum(train_losses) / len(train_losses)}\")\n",
        "\n",
        "    # Validation\n",
        "    val_losses = []\n",
        "    with torch.no_grad():\n",
        "        for x, y in val_loader:\n",
        "            x, y = x.to(device), y.to(device)\n",
        "            out = model(x)\n",
        "            loss = criterion(out, y)\n",
        "            val_losses.append(loss.item())\n",
        "    print(f\"Val loss: {sum(val_losses) / len(val_losses)}\")\n"
      ],
      "metadata": {
        "colab": {
          "base_uri": "https://localhost:8080/"
        },
        "id": "ljB7DSaM3L0D",
        "outputId": "607a5448-162b-4299-abef-ba7db06bcb19"
      },
      "execution_count": null,
      "outputs": [
        {
          "output_type": "stream",
          "name": "stdout",
          "text": [
            "Epoch 0\n",
            "Train loss: 0.36047024827108964\n",
            "Val loss: 0.14033805436801736\n",
            "Epoch 1\n",
            "Train loss: 0.11889521469538814\n",
            "Val loss: 0.08872888061984674\n",
            "Epoch 2\n",
            "Train loss: 0.08452595395273341\n",
            "Val loss: 0.06738804081850834\n",
            "Epoch 3\n",
            "Train loss: 0.06646266297550439\n",
            "Val loss: 0.06254863348225233\n",
            "Epoch 4\n",
            "Train loss: 0.05486489250709408\n",
            "Val loss: 0.05864701733620805\n"
          ]
        }
      ]
    }
  ]
}