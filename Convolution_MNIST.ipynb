{
  "cells": [
    {
      "cell_type": "markdown",
      "metadata": {
        "id": "view-in-github",
        "colab_type": "text"
      },
      "source": [
        "<a href=\"https://colab.research.google.com/github/pablomiralles22/class-CV-computer-vision/blob/main/Convolution_MNIST.ipynb\" target=\"_parent\"><img src=\"https://colab.research.google.com/assets/colab-badge.svg\" alt=\"Open In Colab\"/></a>"
      ]
    },
    {
      "cell_type": "code",
      "execution_count": 1,
      "metadata": {
        "id": "k0NWU4D6bW_y",
        "outputId": "f1a2b580-8c50-41c8-ef11-b134cd86983a",
        "colab": {
          "base_uri": "https://localhost:8080/"
        }
      },
      "outputs": [
        {
          "output_type": "stream",
          "name": "stdout",
          "text": [
            "Requirement already satisfied: transformers in /usr/local/lib/python3.11/dist-packages (4.53.2)\n",
            "Requirement already satisfied: torch in /usr/local/lib/python3.11/dist-packages (2.6.0+cu124)\n",
            "Requirement already satisfied: torchvision in /usr/local/lib/python3.11/dist-packages (0.21.0+cu124)\n",
            "Requirement already satisfied: matplotlib in /usr/local/lib/python3.11/dist-packages (3.10.0)\n",
            "Requirement already satisfied: pillow in /usr/local/lib/python3.11/dist-packages (11.3.0)\n",
            "Requirement already satisfied: filelock in /usr/local/lib/python3.11/dist-packages (from transformers) (3.18.0)\n",
            "Requirement already satisfied: huggingface-hub<1.0,>=0.30.0 in /usr/local/lib/python3.11/dist-packages (from transformers) (0.33.4)\n",
            "Requirement already satisfied: numpy>=1.17 in /usr/local/lib/python3.11/dist-packages (from transformers) (2.0.2)\n",
            "Requirement already satisfied: packaging>=20.0 in /usr/local/lib/python3.11/dist-packages (from transformers) (25.0)\n",
            "Requirement already satisfied: pyyaml>=5.1 in /usr/local/lib/python3.11/dist-packages (from transformers) (6.0.2)\n",
            "Requirement already satisfied: regex!=2019.12.17 in /usr/local/lib/python3.11/dist-packages (from transformers) (2024.11.6)\n",
            "Requirement already satisfied: requests in /usr/local/lib/python3.11/dist-packages (from transformers) (2.32.3)\n",
            "Requirement already satisfied: tokenizers<0.22,>=0.21 in /usr/local/lib/python3.11/dist-packages (from transformers) (0.21.2)\n",
            "Requirement already satisfied: safetensors>=0.4.3 in /usr/local/lib/python3.11/dist-packages (from transformers) (0.5.3)\n",
            "Requirement already satisfied: tqdm>=4.27 in /usr/local/lib/python3.11/dist-packages (from transformers) (4.67.1)\n",
            "Requirement already satisfied: typing-extensions>=4.10.0 in /usr/local/lib/python3.11/dist-packages (from torch) (4.14.1)\n",
            "Requirement already satisfied: networkx in /usr/local/lib/python3.11/dist-packages (from torch) (3.5)\n",
            "Requirement already satisfied: jinja2 in /usr/local/lib/python3.11/dist-packages (from torch) (3.1.6)\n",
            "Requirement already satisfied: fsspec in /usr/local/lib/python3.11/dist-packages (from torch) (2025.7.0)\n",
            "Collecting nvidia-cuda-nvrtc-cu12==12.4.127 (from torch)\n",
            "  Downloading nvidia_cuda_nvrtc_cu12-12.4.127-py3-none-manylinux2014_x86_64.whl.metadata (1.5 kB)\n",
            "Collecting nvidia-cuda-runtime-cu12==12.4.127 (from torch)\n",
            "  Downloading nvidia_cuda_runtime_cu12-12.4.127-py3-none-manylinux2014_x86_64.whl.metadata (1.5 kB)\n",
            "Collecting nvidia-cuda-cupti-cu12==12.4.127 (from torch)\n",
            "  Downloading nvidia_cuda_cupti_cu12-12.4.127-py3-none-manylinux2014_x86_64.whl.metadata (1.6 kB)\n",
            "Collecting nvidia-cudnn-cu12==9.1.0.70 (from torch)\n",
            "  Downloading nvidia_cudnn_cu12-9.1.0.70-py3-none-manylinux2014_x86_64.whl.metadata (1.6 kB)\n",
            "Collecting nvidia-cublas-cu12==12.4.5.8 (from torch)\n",
            "  Downloading nvidia_cublas_cu12-12.4.5.8-py3-none-manylinux2014_x86_64.whl.metadata (1.5 kB)\n",
            "Collecting nvidia-cufft-cu12==11.2.1.3 (from torch)\n",
            "  Downloading nvidia_cufft_cu12-11.2.1.3-py3-none-manylinux2014_x86_64.whl.metadata (1.5 kB)\n",
            "Collecting nvidia-curand-cu12==10.3.5.147 (from torch)\n",
            "  Downloading nvidia_curand_cu12-10.3.5.147-py3-none-manylinux2014_x86_64.whl.metadata (1.5 kB)\n",
            "Collecting nvidia-cusolver-cu12==11.6.1.9 (from torch)\n",
            "  Downloading nvidia_cusolver_cu12-11.6.1.9-py3-none-manylinux2014_x86_64.whl.metadata (1.6 kB)\n",
            "Collecting nvidia-cusparse-cu12==12.3.1.170 (from torch)\n",
            "  Downloading nvidia_cusparse_cu12-12.3.1.170-py3-none-manylinux2014_x86_64.whl.metadata (1.6 kB)\n",
            "Requirement already satisfied: nvidia-cusparselt-cu12==0.6.2 in /usr/local/lib/python3.11/dist-packages (from torch) (0.6.2)\n",
            "Requirement already satisfied: nvidia-nccl-cu12==2.21.5 in /usr/local/lib/python3.11/dist-packages (from torch) (2.21.5)\n",
            "Requirement already satisfied: nvidia-nvtx-cu12==12.4.127 in /usr/local/lib/python3.11/dist-packages (from torch) (12.4.127)\n",
            "Collecting nvidia-nvjitlink-cu12==12.4.127 (from torch)\n",
            "  Downloading nvidia_nvjitlink_cu12-12.4.127-py3-none-manylinux2014_x86_64.whl.metadata (1.5 kB)\n",
            "Requirement already satisfied: triton==3.2.0 in /usr/local/lib/python3.11/dist-packages (from torch) (3.2.0)\n",
            "Requirement already satisfied: sympy==1.13.1 in /usr/local/lib/python3.11/dist-packages (from torch) (1.13.1)\n",
            "Requirement already satisfied: mpmath<1.4,>=1.1.0 in /usr/local/lib/python3.11/dist-packages (from sympy==1.13.1->torch) (1.3.0)\n",
            "Requirement already satisfied: contourpy>=1.0.1 in /usr/local/lib/python3.11/dist-packages (from matplotlib) (1.3.2)\n",
            "Requirement already satisfied: cycler>=0.10 in /usr/local/lib/python3.11/dist-packages (from matplotlib) (0.12.1)\n",
            "Requirement already satisfied: fonttools>=4.22.0 in /usr/local/lib/python3.11/dist-packages (from matplotlib) (4.59.0)\n",
            "Requirement already satisfied: kiwisolver>=1.3.1 in /usr/local/lib/python3.11/dist-packages (from matplotlib) (1.4.8)\n",
            "Requirement already satisfied: pyparsing>=2.3.1 in /usr/local/lib/python3.11/dist-packages (from matplotlib) (3.2.3)\n",
            "Requirement already satisfied: python-dateutil>=2.7 in /usr/local/lib/python3.11/dist-packages (from matplotlib) (2.9.0.post0)\n",
            "Requirement already satisfied: hf-xet<2.0.0,>=1.1.2 in /usr/local/lib/python3.11/dist-packages (from huggingface-hub<1.0,>=0.30.0->transformers) (1.1.5)\n",
            "Requirement already satisfied: six>=1.5 in /usr/local/lib/python3.11/dist-packages (from python-dateutil>=2.7->matplotlib) (1.17.0)\n",
            "Requirement already satisfied: MarkupSafe>=2.0 in /usr/local/lib/python3.11/dist-packages (from jinja2->torch) (3.0.2)\n",
            "Requirement already satisfied: charset-normalizer<4,>=2 in /usr/local/lib/python3.11/dist-packages (from requests->transformers) (3.4.2)\n",
            "Requirement already satisfied: idna<4,>=2.5 in /usr/local/lib/python3.11/dist-packages (from requests->transformers) (3.10)\n",
            "Requirement already satisfied: urllib3<3,>=1.21.1 in /usr/local/lib/python3.11/dist-packages (from requests->transformers) (2.5.0)\n",
            "Requirement already satisfied: certifi>=2017.4.17 in /usr/local/lib/python3.11/dist-packages (from requests->transformers) (2025.7.14)\n",
            "Downloading nvidia_cublas_cu12-12.4.5.8-py3-none-manylinux2014_x86_64.whl (363.4 MB)\n",
            "\u001b[2K   \u001b[90m━━━━━━━━━━━━━━━━━━━━━━━━━━━━━━━━━━━━━━━━\u001b[0m \u001b[32m363.4/363.4 MB\u001b[0m \u001b[31m3.7 MB/s\u001b[0m eta \u001b[36m0:00:00\u001b[0m\n",
            "\u001b[?25hDownloading nvidia_cuda_cupti_cu12-12.4.127-py3-none-manylinux2014_x86_64.whl (13.8 MB)\n",
            "\u001b[2K   \u001b[90m━━━━━━━━━━━━━━━━━━━━━━━━━━━━━━━━━━━━━━━━\u001b[0m \u001b[32m13.8/13.8 MB\u001b[0m \u001b[31m64.4 MB/s\u001b[0m eta \u001b[36m0:00:00\u001b[0m\n",
            "\u001b[?25hDownloading nvidia_cuda_nvrtc_cu12-12.4.127-py3-none-manylinux2014_x86_64.whl (24.6 MB)\n",
            "\u001b[2K   \u001b[90m━━━━━━━━━━━━━━━━━━━━━━━━━━━━━━━━━━━━━━━━\u001b[0m \u001b[32m24.6/24.6 MB\u001b[0m \u001b[31m36.2 MB/s\u001b[0m eta \u001b[36m0:00:00\u001b[0m\n",
            "\u001b[?25hDownloading nvidia_cuda_runtime_cu12-12.4.127-py3-none-manylinux2014_x86_64.whl (883 kB)\n",
            "\u001b[2K   \u001b[90m━━━━━━━━━━━━━━━━━━━━━━━━━━━━━━━━━━━━━━━━\u001b[0m \u001b[32m883.7/883.7 kB\u001b[0m \u001b[31m47.2 MB/s\u001b[0m eta \u001b[36m0:00:00\u001b[0m\n",
            "\u001b[?25hDownloading nvidia_cudnn_cu12-9.1.0.70-py3-none-manylinux2014_x86_64.whl (664.8 MB)\n",
            "\u001b[2K   \u001b[90m━━━━━━━━━━━━━━━━━━━━━━━━━━━━━━━━━━━━━━━━\u001b[0m \u001b[32m664.8/664.8 MB\u001b[0m \u001b[31m2.0 MB/s\u001b[0m eta \u001b[36m0:00:00\u001b[0m\n",
            "\u001b[?25hDownloading nvidia_cufft_cu12-11.2.1.3-py3-none-manylinux2014_x86_64.whl (211.5 MB)\n",
            "\u001b[2K   \u001b[90m━━━━━━━━━━━━━━━━━━━━━━━━━━━━━━━━━━━━━━━━\u001b[0m \u001b[32m211.5/211.5 MB\u001b[0m \u001b[31m5.5 MB/s\u001b[0m eta \u001b[36m0:00:00\u001b[0m\n",
            "\u001b[?25hDownloading nvidia_curand_cu12-10.3.5.147-py3-none-manylinux2014_x86_64.whl (56.3 MB)\n",
            "\u001b[2K   \u001b[90m━━━━━━━━━━━━━━━━━━━━━━━━━━━━━━━━━━━━━━━━\u001b[0m \u001b[32m56.3/56.3 MB\u001b[0m \u001b[31m13.0 MB/s\u001b[0m eta \u001b[36m0:00:00\u001b[0m\n",
            "\u001b[?25hDownloading nvidia_cusolver_cu12-11.6.1.9-py3-none-manylinux2014_x86_64.whl (127.9 MB)\n",
            "\u001b[2K   \u001b[90m━━━━━━━━━━━━━━━━━━━━━━━━━━━━━━━━━━━━━━━━\u001b[0m \u001b[32m127.9/127.9 MB\u001b[0m \u001b[31m7.8 MB/s\u001b[0m eta \u001b[36m0:00:00\u001b[0m\n",
            "\u001b[?25hDownloading nvidia_cusparse_cu12-12.3.1.170-py3-none-manylinux2014_x86_64.whl (207.5 MB)\n",
            "\u001b[2K   \u001b[90m━━━━━━━━━━━━━━━━━━━━━━━━━━━━━━━━━━━━━━━━\u001b[0m \u001b[32m207.5/207.5 MB\u001b[0m \u001b[31m5.3 MB/s\u001b[0m eta \u001b[36m0:00:00\u001b[0m\n",
            "\u001b[?25hDownloading nvidia_nvjitlink_cu12-12.4.127-py3-none-manylinux2014_x86_64.whl (21.1 MB)\n",
            "\u001b[2K   \u001b[90m━━━━━━━━━━━━━━━━━━━━━━━━━━━━━━━━━━━━━━━━\u001b[0m \u001b[32m21.1/21.1 MB\u001b[0m \u001b[31m85.5 MB/s\u001b[0m eta \u001b[36m0:00:00\u001b[0m\n",
            "\u001b[?25hInstalling collected packages: nvidia-nvjitlink-cu12, nvidia-curand-cu12, nvidia-cufft-cu12, nvidia-cuda-runtime-cu12, nvidia-cuda-nvrtc-cu12, nvidia-cuda-cupti-cu12, nvidia-cublas-cu12, nvidia-cusparse-cu12, nvidia-cudnn-cu12, nvidia-cusolver-cu12\n",
            "  Attempting uninstall: nvidia-nvjitlink-cu12\n",
            "    Found existing installation: nvidia-nvjitlink-cu12 12.5.82\n",
            "    Uninstalling nvidia-nvjitlink-cu12-12.5.82:\n",
            "      Successfully uninstalled nvidia-nvjitlink-cu12-12.5.82\n",
            "  Attempting uninstall: nvidia-curand-cu12\n",
            "    Found existing installation: nvidia-curand-cu12 10.3.6.82\n",
            "    Uninstalling nvidia-curand-cu12-10.3.6.82:\n",
            "      Successfully uninstalled nvidia-curand-cu12-10.3.6.82\n",
            "  Attempting uninstall: nvidia-cufft-cu12\n",
            "    Found existing installation: nvidia-cufft-cu12 11.2.3.61\n",
            "    Uninstalling nvidia-cufft-cu12-11.2.3.61:\n",
            "      Successfully uninstalled nvidia-cufft-cu12-11.2.3.61\n",
            "  Attempting uninstall: nvidia-cuda-runtime-cu12\n",
            "    Found existing installation: nvidia-cuda-runtime-cu12 12.5.82\n",
            "    Uninstalling nvidia-cuda-runtime-cu12-12.5.82:\n",
            "      Successfully uninstalled nvidia-cuda-runtime-cu12-12.5.82\n",
            "  Attempting uninstall: nvidia-cuda-nvrtc-cu12\n",
            "    Found existing installation: nvidia-cuda-nvrtc-cu12 12.5.82\n",
            "    Uninstalling nvidia-cuda-nvrtc-cu12-12.5.82:\n",
            "      Successfully uninstalled nvidia-cuda-nvrtc-cu12-12.5.82\n",
            "  Attempting uninstall: nvidia-cuda-cupti-cu12\n",
            "    Found existing installation: nvidia-cuda-cupti-cu12 12.5.82\n",
            "    Uninstalling nvidia-cuda-cupti-cu12-12.5.82:\n",
            "      Successfully uninstalled nvidia-cuda-cupti-cu12-12.5.82\n",
            "  Attempting uninstall: nvidia-cublas-cu12\n",
            "    Found existing installation: nvidia-cublas-cu12 12.5.3.2\n",
            "    Uninstalling nvidia-cublas-cu12-12.5.3.2:\n",
            "      Successfully uninstalled nvidia-cublas-cu12-12.5.3.2\n",
            "  Attempting uninstall: nvidia-cusparse-cu12\n",
            "    Found existing installation: nvidia-cusparse-cu12 12.5.1.3\n",
            "    Uninstalling nvidia-cusparse-cu12-12.5.1.3:\n",
            "      Successfully uninstalled nvidia-cusparse-cu12-12.5.1.3\n",
            "  Attempting uninstall: nvidia-cudnn-cu12\n",
            "    Found existing installation: nvidia-cudnn-cu12 9.3.0.75\n",
            "    Uninstalling nvidia-cudnn-cu12-9.3.0.75:\n",
            "      Successfully uninstalled nvidia-cudnn-cu12-9.3.0.75\n",
            "  Attempting uninstall: nvidia-cusolver-cu12\n",
            "    Found existing installation: nvidia-cusolver-cu12 11.6.3.83\n",
            "    Uninstalling nvidia-cusolver-cu12-11.6.3.83:\n",
            "      Successfully uninstalled nvidia-cusolver-cu12-11.6.3.83\n",
            "Successfully installed nvidia-cublas-cu12-12.4.5.8 nvidia-cuda-cupti-cu12-12.4.127 nvidia-cuda-nvrtc-cu12-12.4.127 nvidia-cuda-runtime-cu12-12.4.127 nvidia-cudnn-cu12-9.1.0.70 nvidia-cufft-cu12-11.2.1.3 nvidia-curand-cu12-10.3.5.147 nvidia-cusolver-cu12-11.6.1.9 nvidia-cusparse-cu12-12.3.1.170 nvidia-nvjitlink-cu12-12.4.127\n"
          ]
        }
      ],
      "source": [
        "!pip install transformers torch torchvision matplotlib pillow"
      ]
    },
    {
      "cell_type": "code",
      "execution_count": 2,
      "metadata": {
        "id": "T1MjdEpF3J3_"
      },
      "outputs": [],
      "source": [
        "import torch\n",
        "import torch.nn as nn\n",
        "import torch.optim as optim\n",
        "from torchvision import datasets, transforms"
      ]
    },
    {
      "cell_type": "markdown",
      "metadata": {
        "id": "2gBgt_5WU8xS"
      },
      "source": [
        "## 📦 Data Loading\n",
        "In this section, we load the MNIST dataset. MNIST is a classic dataset of handwritten digits (0–9). Each image is 28x28 pixels in grayscale. We'll use this data to train a simple image classification model."
      ]
    },
    {
      "cell_type": "code",
      "execution_count": 3,
      "metadata": {
        "id": "EtcLezJT3E5E",
        "outputId": "f2c47152-f3f6-4681-c05a-e8b42187cf19",
        "colab": {
          "base_uri": "https://localhost:8080/"
        }
      },
      "outputs": [
        {
          "output_type": "stream",
          "name": "stderr",
          "text": [
            "100%|██████████| 9.91M/9.91M [00:00<00:00, 11.5MB/s]\n",
            "100%|██████████| 28.9k/28.9k [00:00<00:00, 331kB/s]\n",
            "100%|██████████| 1.65M/1.65M [00:00<00:00, 3.16MB/s]\n",
            "100%|██████████| 4.54k/4.54k [00:00<00:00, 5.55MB/s]\n"
          ]
        }
      ],
      "source": [
        "# --- Data ---\n",
        "transform = transforms.ToTensor()\n",
        "\n",
        "train_dataset = datasets.MNIST('.', train=True, download=True, transform=transform)\n",
        "train_loader = torch.utils.data.DataLoader(train_dataset, batch_size=64, shuffle=True)\n",
        "\n",
        "val_dataset = datasets.MNIST('.', train=False, transform=transform)\n",
        "val_loader = torch.utils.data.DataLoader(val_dataset, batch_size=64, shuffle=False)"
      ]
    },
    {
      "cell_type": "markdown",
      "metadata": {
        "id": "LoPGSby4W5xQ"
      },
      "source": [
        "Let's explain the code step by step:\n",
        "\n",
        "```python\n",
        "transform = transforms.ToTensor()\n",
        "```\n",
        "\n",
        "* Converts PIL images or NumPy arrays to PyTorch tensors.\n",
        "* Scales pixel values from `[0, 255]` to `[0.0, 1.0]`.\n",
        "\n",
        "```python\n",
        "train_dataset = datasets.MNIST('.', train=True, download=True, transform=transform)\n",
        "```\n",
        "\n",
        "* Loads the **training set** of the MNIST dataset.\n",
        "* Stores data in the current directory (`'.'`).\n",
        "* Downloads the dataset if not already present.\n",
        "* Applies `ToTensor()` transformation.\n",
        "\n",
        "```python\n",
        "train_loader = torch.utils.data.DataLoader(train_dataset, batch_size=64, shuffle=True)\n",
        "```\n",
        "\n",
        "* Wraps the training dataset in a data loader.\n",
        "* Loads data in **mini-batches of 64**.\n",
        "* Shuffles data every epoch for better training.\n",
        "\n",
        "```python\n",
        "val_dataset = datasets.MNIST('.', train=False, transform=transform)\n",
        "```\n",
        "\n",
        "* Loads the **validation (test) set** of MNIST.\n",
        "* No shuffling or downloading since it uses the test split.\n",
        "\n",
        "```python\n",
        "val_loader = torch.utils.data.DataLoader(val_dataset, batch_size=64, shuffle=False)\n",
        "```\n",
        "\n",
        "* Loads the validation data in batches of 64.\n",
        "* **No shuffling**, preserving original order (typical for evaluation).\n"
      ]
    },
    {
      "cell_type": "markdown",
      "metadata": {
        "id": "Vo-KCEVhVKBX"
      },
      "source": [
        "## 🧠 Define the Neural Network\n",
        "Here, we define our neural network using PyTorch's nn.Module. It's a simple Convolutional Neural Network (CNN) with three convolutional layers followed by a final classification layer. CNNs are especially good for image recognition tasks."
      ]
    },
    {
      "cell_type": "code",
      "execution_count": 4,
      "metadata": {
        "id": "UET2ZSLe46Wq"
      },
      "outputs": [],
      "source": [
        "# --- Model ---\n",
        "class SimpleCNN(nn.Module):\n",
        "    def __init__(self):\n",
        "        super().__init__()\n",
        "        self.net = nn.Sequential(\n",
        "            nn.Conv2d(1, 16, kernel_size=3, stride=2),   # [B, 1, 28, 28] -> [B, 16, 13, 13]\n",
        "            nn.ReLU(),\n",
        "            nn.Conv2d(16, 32, kernel_size=3, stride=2),  # [B, 16, 13, 13] -> [B, 32, 6, 6]\n",
        "            nn.ReLU(),\n",
        "            nn.Conv2d(32, 64, kernel_size=3, stride=2),  # [B, 32, 6, 6] -> [B, 64, 2, 2]\n",
        "            nn.ReLU(),\n",
        "        )\n",
        "        self.classifier = nn.Linear(64 * 2 * 2, 10)  # Flatten: [B, 256] -> [B, 10]\n",
        "\n",
        "    def forward(self, x):\n",
        "        x = self.net(x)\n",
        "        x = x.flatten(start_dim=1)\n",
        "        return self.classifier(x)"
      ]
    },
    {
      "cell_type": "markdown",
      "metadata": {
        "id": "7eELcxCuXQ6X"
      },
      "source": [
        "```python\n",
        "class SimpleCNN(nn.Module):\n",
        "    def __init__(self):\n",
        "        super().__init__()\n",
        "```\n",
        "\n",
        "* Defines a custom neural network class inheriting from `nn.Module`.\n",
        "\n",
        "```python\n",
        "        self.net = nn.Sequential(\n",
        "            nn.Conv2d(1, 16, kernel_size=3, stride=2),   # [B, 1, 28, 28] -> [B, 16, 13, 13]\n",
        "            nn.ReLU(),\n",
        "            nn.Conv2d(16, 32, kernel_size=3, stride=2),  # [B, 16, 13, 13] -> [B, 32, 6, 6]\n",
        "            nn.ReLU(),\n",
        "            nn.Conv2d(32, 64, kernel_size=3, stride=2),  # [B, 32, 6, 6] -> [B, 64, 2, 2]\n",
        "            nn.ReLU(),\n",
        "        )\n",
        "```\n",
        "\n",
        "* A **convolutional feature extractor** with 3 layers:\n",
        "\n",
        "  * Each `Conv2d` halves the spatial dimensions due to `stride=2`.\n",
        "  * `ReLU` adds non-linearity after each conv layer.\n",
        "  * Final output shape after convs: `[B, 64, 2, 2]`.\n",
        "\n",
        "```python\n",
        "        self.classifier = nn.Linear(64 * 2 * 2, 10)\n",
        "```\n",
        "\n",
        "* A **fully connected layer** that maps flattened conv output (size 256) to 10 output classes (digits 0–9).\n",
        "\n",
        "```python\n",
        "    def forward(self, x):\n",
        "        x = self.net(x)                     # Pass through conv layers\n",
        "        x = x.flatten(start_dim=1)          # Flatten to shape [B, 256]\n",
        "        return self.classifier(x)           # Class scores (logits)\n",
        "```\n",
        "\n",
        "* **Forward pass logic**:\n",
        "\n",
        "  1. Extract features.\n",
        "  2. Flatten features.\n",
        "  3. Classify with linear layer.\n"
      ]
    },
    {
      "cell_type": "markdown",
      "metadata": {
        "id": "KMqHDfdBXZK5"
      },
      "source": [
        "## 🏋️‍♀️ Training the model"
      ]
    },
    {
      "cell_type": "code",
      "execution_count": 6,
      "metadata": {
        "colab": {
          "base_uri": "https://localhost:8080/"
        },
        "id": "ljB7DSaM3L0D",
        "outputId": "a203778b-9e61-4c46-deda-13a53484682d"
      },
      "outputs": [
        {
          "output_type": "stream",
          "name": "stdout",
          "text": [
            "Epoch 0\n",
            "Train loss: 0.3728947263123638\n",
            "Val loss: 0.13161671479458026\n",
            "Epoch 1\n",
            "Train loss: 0.120059464773191\n",
            "Val loss: 0.1023047042648741\n",
            "Epoch 2\n",
            "Train loss: 0.08085272296159061\n",
            "Val loss: 0.06659978079152809\n",
            "Epoch 3\n",
            "Train loss: 0.0626897084231832\n",
            "Val loss: 0.06562400597743068\n",
            "Epoch 4\n",
            "Train loss: 0.051872414032514615\n",
            "Val loss: 0.051669652583125746\n"
          ]
        }
      ],
      "source": [
        "# --- Training ---\n",
        "device = torch.device(\"cuda\" if torch.cuda.is_available() else \"cpu\")\n",
        "model = SimpleCNN().to(device)\n",
        "optimizer = optim.Adam(model.parameters(), lr=1e-3)\n",
        "criterion = nn.CrossEntropyLoss()\n",
        "\n",
        "\n",
        "for epoch in range(5):  # Single epoch for minimal example\n",
        "    print(f\"Epoch {epoch}\")\n",
        "\n",
        "    # Train\n",
        "    model.train()\n",
        "    train_losses = []\n",
        "    for images, labels in train_loader:\n",
        "        # Move images to device\n",
        "        images, labels = images.to(device), labels.to(device)\n",
        "        # Reset gradients for the new training step\n",
        "        optimizer.zero_grad()\n",
        "        # Obtain the predictions from the model\n",
        "        predictions = model(images)\n",
        "        # Compute the loss function and backpropagate gradients\n",
        "        loss = criterion(predictions, labels)\n",
        "        loss.backward()\n",
        "        # Update model weights with the gradients\n",
        "        optimizer.step()\n",
        "        # Save training loss to show after the epoch\n",
        "        train_losses.append(loss.item())\n",
        "    print(f\"Train loss: {sum(train_losses) / len(train_losses)}\")\n",
        "\n",
        "    # Validation\n",
        "    val_losses = []\n",
        "    with torch.no_grad():\n",
        "        for images, labels in val_loader:\n",
        "            # Move images to device\n",
        "            images, labels = images.to(device), labels.to(device)\n",
        "            # Obtain the predictions from the model\n",
        "            predictions = model(images)\n",
        "            # Compute the loss function\n",
        "            loss = criterion(predictions, labels)\n",
        "            # Save validation loss to show after the epoch\n",
        "            val_losses.append(loss.item())\n",
        "    print(f\"Val loss: {sum(val_losses) / len(val_losses)}\")\n"
      ]
    },
    {
      "cell_type": "markdown",
      "metadata": {
        "id": "R1gpfBXPXm3o"
      },
      "source": [
        "```python\n",
        "device = torch.device(\"cuda\" if torch.cuda.is_available() else \"cpu\")\n",
        "```\n",
        "\n",
        "* Selects **GPU** if available, else falls back to **CPU**.\n",
        "\n",
        "```python\n",
        "model = SimpleCNN().to(device)\n",
        "optimizer = optim.Adam(model.parameters(), lr=1e-3)\n",
        "criterion = nn.CrossEntropyLoss()\n",
        "```\n",
        "\n",
        "* Instantiates the model and moves it to the chosen device.\n",
        "* Uses **Adam** optimizer with a learning rate of `1e-3`.\n",
        "* Loss function: **Cross-Entropy**, standard for classification.\n",
        "\n",
        "\n",
        "🔄 **Epoch Loop**\n",
        "\n",
        "```python\n",
        "for epoch in range(5):\n",
        "    print(f\"Epoch {epoch}\")\n",
        "```\n",
        "\n",
        "* Trains for 5 epochs.\n",
        "\n",
        "\n",
        "🏋️ **Training Phase**\n",
        "\n",
        "```python\n",
        "    # Train\n",
        "    model.train()\n",
        "    train_losses = []\n",
        "    for images, labels in train_loader:\n",
        "        # Move images to device\n",
        "        images, labels = images.to(device), labels.to(device)\n",
        "        # Reset gradients for the new training step\n",
        "        optimizer.zero_grad()\n",
        "        # Obtain the predictions from the model\n",
        "        predictions = model(images)\n",
        "        # Compute the loss function and backpropagate gradients\n",
        "        loss = criterion(predictions, y)\n",
        "        loss.backward()\n",
        "        # Update model weights with the gradients\n",
        "        optimizer.step()\n",
        "        # Save training loss to show after the epoch\n",
        "        train_losses.append(loss.item())\n",
        "    print(f\"Train loss: {sum(train_losses) / len(train_losses)}\")\n",
        "```\n",
        "\n",
        "* Sets model to **training mode** (`model.train()`).\n",
        "* Loads batches of training data, moves to device.\n",
        "* Clears gradients → forward pass → computes loss → backprop → optimizer step.\n",
        "* Collects and averages training loss.\n",
        "\n",
        "\n",
        "🧪 **Validation Phase**\n",
        "\n",
        "```python\n",
        "    val_losses = []\n",
        "    with torch.no_grad():\n",
        "        for images, labels in val_loader:\n",
        "            # Move images to device\n",
        "            images, labels = images.to(device), y.to(device)\n",
        "            # Obtain the predictions from the model\n",
        "            predictions = model(images)\n",
        "            # Compute the loss function\n",
        "            loss = criterion(predictions, labels)\n",
        "            # Save validation loss to show after the epoch\n",
        "            val_losses.append(loss.item())\n",
        "    print(f\"Val loss: {sum(val_losses) / len(val_losses)}\")\n",
        "```\n",
        "\n",
        "* Disables gradient tracking with `torch.no_grad()` for efficiency. This disables the tracking of gradients necessary to apply the optimization step, but this is not necessary during validation, as we do not train the model.\n",
        "* Evaluates model on validation data.\n",
        "* Computes and reports average validation loss. This loss reflects how well the model does on unseen data, giving a more realistic picture of generalization. If the training loss goes down but the validation loss does not, we are overfitting to the training data.\n"
      ]
    }
  ],
  "metadata": {
    "accelerator": "GPU",
    "colab": {
      "gpuType": "T4",
      "provenance": [],
      "include_colab_link": true
    },
    "kernelspec": {
      "display_name": "Python 3",
      "name": "python3"
    },
    "language_info": {
      "name": "python"
    }
  },
  "nbformat": 4,
  "nbformat_minor": 0
}